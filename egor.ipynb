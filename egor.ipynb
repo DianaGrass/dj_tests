{
 "cells": [
  {
   "cell_type": "code",
   "execution_count": 7,
   "metadata": {},
   "outputs": [],
   "source": [
    "from requests import get, post, put, delete, patch\n",
    "from json import loads"
   ]
  },
  {
   "cell_type": "code",
   "execution_count": 8,
   "metadata": {},
   "outputs": [],
   "source": [
    "response = get(\"http://127.0.0.1:8000/api/v1/list/\")\n",
    "data = loads(response.text)"
   ]
  },
  {
   "cell_type": "code",
   "execution_count": 9,
   "metadata": {},
   "outputs": [
    {
     "data": {
      "text/plain": [
       "{'id': 1,\n",
       " 'author': {'username': 'di', 'first_name': ''},\n",
       " 'title': '123',\n",
       " 'text': '1weqer',\n",
       " 'date': '2020-04-15T16:34:10.181876Z'}"
      ]
     },
     "execution_count": 9,
     "metadata": {},
     "output_type": "execute_result"
    }
   ],
   "source": [
    "data[0]"
   ]
  },
  {
   "cell_type": "code",
   "execution_count": null,
   "metadata": {},
   "outputs": [],
   "source": [
    "POST"
   ]
  },
  {
   "cell_type": "code",
   "execution_count": 26,
   "metadata": {},
   "outputs": [
    {
     "data": {
      "text/plain": [
       "<Response [201]>"
      ]
     },
     "execution_count": 26,
     "metadata": {},
     "output_type": "execute_result"
    }
   ],
   "source": [
    "json = {\n",
    "    \"title\": \"test post title\",\n",
    "    \"text\": \"texst post jupiter\",\n",
    "    \"author\": 2\n",
    "}\n",
    "post(\"http://127.0.0.1:8000/api/v1/create/\", json=json)"
   ]
  },
  {
   "cell_type": "code",
   "execution_count": 27,
   "metadata": {},
   "outputs": [
    {
     "data": {
      "text/plain": [
       "{'detail': 'Not found.'}"
      ]
     },
     "execution_count": 27,
     "metadata": {},
     "output_type": "execute_result"
    }
   ],
   "source": [
    "loads(get(\"http://127.0.0.1:8000/api/v1/update/3\").text)"
   ]
  },
  {
   "cell_type": "code",
   "execution_count": 28,
   "metadata": {},
   "outputs": [
    {
     "data": {
      "text/plain": [
       "<function requests.api.delete(url, **kwargs)>"
      ]
     },
     "execution_count": 28,
     "metadata": {},
     "output_type": "execute_result"
    }
   ],
   "source": [
    "delete"
   ]
  },
  {
   "cell_type": "code",
   "execution_count": 19,
   "metadata": {},
   "outputs": [
    {
     "data": {
      "text/plain": [
       "<Response [204]>"
      ]
     },
     "execution_count": 19,
     "metadata": {},
     "output_type": "execute_result"
    }
   ],
   "source": [
    "delete(\"http://127.0.0.1:8000/api/v1/update/3\")"
   ]
  },
  {
   "cell_type": "code",
   "execution_count": null,
   "metadata": {},
   "outputs": [],
   "source": [
    "put"
   ]
  },
  {
   "cell_type": "code",
   "execution_count": 29,
   "metadata": {},
   "outputs": [
    {
     "data": {
      "text/plain": [
       "{'id': 1,\n",
       " 'title': '123',\n",
       " 'text': '1weqer',\n",
       " 'date': '2020-04-15T16:34:10.181876Z',\n",
       " 'author': 2}"
      ]
     },
     "execution_count": 29,
     "metadata": {},
     "output_type": "execute_result"
    }
   ],
   "source": [
    "loads(get(\"http://127.0.0.1:8000/api/v1/update/1\").text)"
   ]
  },
  {
   "cell_type": "code",
   "execution_count": 32,
   "metadata": {},
   "outputs": [
    {
     "data": {
      "text/plain": [
       "<Response [200]>"
      ]
     },
     "execution_count": 32,
     "metadata": {},
     "output_type": "execute_result"
    }
   ],
   "source": [
    "json = {\"id\": 1,\n",
    " \"title\": \"new123123\",\n",
    " \"text\": \"new1weqer\",\n",
    " \"date\": \"2020-04-15T16:34:10.181876Z\",\n",
    " \"author\": 2}\n",
    "put(\"http://127.0.0.1:8000/api/v1/update/1/\", json=json)"
   ]
  },
  {
   "cell_type": "code",
   "execution_count": 33,
   "metadata": {},
   "outputs": [
    {
     "data": {
      "text/plain": [
       "{'id': 1,\n",
       " 'title': 'new123123',\n",
       " 'text': 'new1weqer',\n",
       " 'date': '2020-04-15T16:34:10.181876Z',\n",
       " 'author': 2}"
      ]
     },
     "execution_count": 33,
     "metadata": {},
     "output_type": "execute_result"
    }
   ],
   "source": [
    "loads(get(\"http://127.0.0.1:8000/api/v1/update/1\").text)"
   ]
  },
  {
   "cell_type": "code",
   "execution_count": 36,
   "metadata": {},
   "outputs": [
    {
     "data": {
      "text/plain": [
       "<Response [200]>"
      ]
     },
     "execution_count": 36,
     "metadata": {},
     "output_type": "execute_result"
    }
   ],
   "source": [
    "json = {\"id\": 1,\n",
    " \"title\": \"del\",\n",
    " \"text\": \"del\"}\n",
    "patch(\"http://127.0.0.1:8000/api/v1/update/1/\", json=json)"
   ]
  },
  {
   "cell_type": "code",
   "execution_count": 35,
   "metadata": {},
   "outputs": [
    {
     "data": {
      "text/plain": [
       "{'id': 1,\n",
       " 'title': 'newnew123123',\n",
       " 'text': 'del',\n",
       " 'date': '2020-04-15T16:34:10.181876Z',\n",
       " 'author': 2}"
      ]
     },
     "execution_count": 35,
     "metadata": {},
     "output_type": "execute_result"
    }
   ],
   "source": [
    "loads(get(\"http://127.0.0.1:8000/api/v1/update/1\").text)"
   ]
  },
  {
   "cell_type": "code",
   "execution_count": null,
   "metadata": {},
   "outputs": [],
   "source": [
    "__________________________________________________________________\n"
   ]
  },
  {
   "cell_type": "code",
   "execution_count": 44,
   "metadata": {},
   "outputs": [],
   "source": [
    "from requests import session\n",
    "from IPython.core.display import HTML\n",
    "from json import loads"
   ]
  },
  {
   "cell_type": "code",
   "execution_count": 45,
   "metadata": {},
   "outputs": [],
   "source": [
    "client = session()"
   ]
  },
  {
   "cell_type": "code",
   "execution_count": 47,
   "metadata": {},
   "outputs": [
    {
     "data": {
      "text/html": [
       "<!DOCTYPE html>\n",
       "\n",
       "<html lang=\"en-us\" >\n",
       "<head>\n",
       "<title>Log in | Django site admin</title>\n",
       "<link rel=\"stylesheet\" type=\"text/css\" href=\"/static/admin/css/base.css\">\n",
       "<link rel=\"stylesheet\" type=\"text/css\" href=\"/static/admin/css/login.css\">\n",
       "\n",
       "\n",
       "\n",
       "\n",
       "\n",
       "    <meta name=\"viewport\" content=\"user-scalable=no, width=device-width, initial-scale=1.0, maximum-scale=1.0\">\n",
       "    <link rel=\"stylesheet\" type=\"text/css\" href=\"/static/admin/css/responsive.css\">\n",
       "    \n",
       "\n",
       "<meta name=\"robots\" content=\"NONE,NOARCHIVE\">\n",
       "</head>\n",
       "\n",
       "\n",
       "<body class=\" login\"\n",
       "  data-admin-utc-offset=\"0\">\n",
       "\n",
       "<!-- Container -->\n",
       "<div id=\"container\">\n",
       "\n",
       "    \n",
       "    <!-- Header -->\n",
       "    <div id=\"header\">\n",
       "        <div id=\"branding\">\n",
       "        \n",
       "<h1 id=\"site-name\"><a href=\"/admin/\">Django administration</a></h1>\n",
       "\n",
       "        </div>\n",
       "        \n",
       "        \n",
       "    </div>\n",
       "    <!-- END Header -->\n",
       "    \n",
       "    \n",
       "\n",
       "    \n",
       "        \n",
       "    \n",
       "\n",
       "    <!-- Content -->\n",
       "    <div id=\"content\" class=\"colM\">\n",
       "        \n",
       "        \n",
       "        \n",
       "\n",
       "\n",
       "\n",
       "\n",
       "<div id=\"content-main\">\n",
       "\n",
       "\n",
       "\n",
       "<form action=\"/admin/login/?next=/admin/\" method=\"post\" id=\"login-form\"><input type=\"hidden\" name=\"csrfmiddlewaretoken\" value=\"JNVaEDI2AOEHQnohsitSbMassDbQemEjbvs7pZTipmb1Ne2o8J8iUSnMKRjXu22i\">\n",
       "  <div class=\"form-row\">\n",
       "    \n",
       "    <label class=\"required\" for=\"id_username\">Username:</label> <input type=\"text\" name=\"username\" autofocus autocapitalize=\"none\" autocomplete=\"username\" maxlength=\"150\" required id=\"id_username\">\n",
       "  </div>\n",
       "  <div class=\"form-row\">\n",
       "    \n",
       "    <label class=\"required\" for=\"id_password\">Password:</label> <input type=\"password\" name=\"password\" autocomplete=\"current-password\" required id=\"id_password\">\n",
       "    <input type=\"hidden\" name=\"next\" value=\"/admin/\">\n",
       "  </div>\n",
       "  \n",
       "  \n",
       "  <div class=\"submit-row\">\n",
       "    <label>&nbsp;</label><input type=\"submit\" value=\"Log in\">\n",
       "  </div>\n",
       "</form>\n",
       "\n",
       "</div>\n",
       "\n",
       "        \n",
       "        <br class=\"clear\">\n",
       "    </div>\n",
       "    <!-- END Content -->\n",
       "\n",
       "    <div id=\"footer\"></div>\n",
       "</div>\n",
       "<!-- END Container -->\n",
       "\n",
       "</body>\n",
       "</html>\n"
      ],
      "text/plain": [
       "<IPython.core.display.HTML object>"
      ]
     },
     "execution_count": 47,
     "metadata": {},
     "output_type": "execute_result"
    }
   ],
   "source": [
    "res = client.get(\"http://127.0.0.1:8000/admin/\")\n",
    "HTML(res.text)"
   ]
  },
  {
   "cell_type": "code",
   "execution_count": 56,
   "metadata": {},
   "outputs": [
    {
     "data": {
      "text/plain": [
       "'yvGD5BtFRDnE03E91d3Z0wAQ7BqXKS4BCDXys0joOFpdvJdfWZhyWlG2uqvPf84c'"
      ]
     },
     "execution_count": 56,
     "metadata": {},
     "output_type": "execute_result"
    }
   ],
   "source": [
    "client.cookies[\"csrftoken\"]"
   ]
  },
  {
   "cell_type": "code",
   "execution_count": 60,
   "metadata": {},
   "outputs": [
    {
     "data": {
      "text/html": [
       "<!DOCTYPE html>\n",
       "<html land=\"en\">\n",
       "<head>\n",
       "    <meta charset=\"UTF-8\">\n",
       "    <title>maine template</title>\n",
       "    <link rel=\"stylesheet\" href=\"https://maxcdn.bootstrapcdn.com/bootstrap/4.4.1/css/bootstrap.min.css\">\n",
       "\n",
       "</head>\n",
       "\n",
       "<body>\n",
       "\n",
       "\n",
       "<h1>hello from index</h1>\n",
       "<h2>my name is Egor</h2>\n",
       "\n",
       "<h2> hello from test Oleg</h2>\n",
       "\n",
       "<form action=\"#\">\n",
       "    <textarea rows=\"5\" cols = \"10\"></textarea>\n",
       "    <input type=\"submit\" value=\"OK\">\n",
       "</form>\n",
       "<h2> hello from test Oleg</h2>\n",
       "\n",
       "<form action=\"#\">\n",
       "    <textarea rows=\"5\" cols = \"10\"></textarea>\n",
       "    <input type=\"submit\" value=\"OK\">\n",
       "</form>\n",
       "<h2> hello from test Oleg</h2>\n",
       "\n",
       "<form action=\"#\">\n",
       "    <textarea rows=\"5\" cols = \"10\"></textarea>\n",
       "    <input type=\"submit\" value=\"OK\">\n",
       "</form>\n",
       "<h2> hello from test Oleg</h2>\n",
       "\n",
       "<form action=\"#\">\n",
       "    <textarea rows=\"5\" cols = \"10\"></textarea>\n",
       "    <input type=\"submit\" value=\"OK\">\n",
       "</form>\n",
       "<h2> hello from test Oleg</h2>\n",
       "\n",
       "<form action=\"#\">\n",
       "    <textarea rows=\"5\" cols = \"10\"></textarea>\n",
       "    <input type=\"submit\" value=\"OK\">\n",
       "</form>\n",
       "\n",
       "\n",
       "</body>\n",
       "\n",
       "\n",
       "</html>"
      ],
      "text/plain": [
       "<IPython.core.display.HTML object>"
      ]
     },
     "execution_count": 60,
     "metadata": {},
     "output_type": "execute_result"
    }
   ],
   "source": [
    "json = {\"username\": \"di\", \"password\": \"12345678\", \"csrfmiddlewaretoken\": client.cookies[\"csrftoken\"]}\n",
    "res=client.post(\"http://127.0.0.1:8000/admin/login/?next=/\", data=json)\n",
    "HTML(res.text)"
   ]
  },
  {
   "cell_type": "code",
   "execution_count": null,
   "metadata": {},
   "outputs": [],
   "source": []
  }
 ],
 "metadata": {
  "kernelspec": {
   "display_name": "Python 3",
   "language": "python",
   "name": "python3"
  },
  "language_info": {
   "codemirror_mode": {
    "name": "ipython",
    "version": 3
   },
   "file_extension": ".py",
   "mimetype": "text/x-python",
   "name": "python",
   "nbconvert_exporter": "python",
   "pygments_lexer": "ipython3",
   "version": "3.7.4"
  }
 },
 "nbformat": 4,
 "nbformat_minor": 2
}
